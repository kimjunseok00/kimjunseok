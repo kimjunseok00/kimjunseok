{
  "nbformat": 4,
  "nbformat_minor": 0,
  "metadata": {
    "colab": {
      "provenance": [],
      "authorship_tag": "ABX9TyORNo3ogH4vU0iblJmRoG8v",
      "include_colab_link": true
    },
    "kernelspec": {
      "name": "python3",
      "display_name": "Python 3"
    },
    "language_info": {
      "name": "python"
    }
  },
  "cells": [
    {
      "cell_type": "markdown",
      "metadata": {
        "id": "view-in-github",
        "colab_type": "text"
      },
      "source": [
        "<a href=\"https://colab.research.google.com/github/kimjunseok00/kimjunseok/blob/main/Untitled0.ipynb\" target=\"_parent\"><img src=\"https://colab.research.google.com/assets/colab-badge.svg\" alt=\"Open In Colab\"/></a>"
      ]
    },
    {
      "cell_type": "markdown",
      "source": [
        "# 공학용 계산기 만들기\n"
      ],
      "metadata": {
        "id": "VJV_JsaaGIoR"
      }
    },
    {
      "cell_type": "markdown",
      "source": [
        "# 초기값 입력\n",
        "계산을 원하는 값을 넣어주세요\n"
      ],
      "metadata": {
        "id": "2Bl_gb79I7f-"
      }
    },
    {
      "cell_type": "code",
      "source": [
        "# @title Example form fields\n",
        "# @markdown Forms support many types of fields.\n",
        "\n",
        "no_type_checking = ''  # @param\n",
        "string_type = 'example'  # @param {type: \"string\"}\n",
        "slider_value = 142  # @param {type: \"slider\", min: 100, max: 200}\n",
        "x = 20  # @param {type: \"number\"}\n",
        "y = 40  # @param {type: \"number\"}\n",
        "date = '2010-11-05'  # @param {type: \"date\"}\n",
        "pick_me = \"monday\"  # @param ['monday', 'tuesday', 'wednesday', 'thursday']\n",
        "select_or_input = \"apples\" # @param [\"apples\", \"bananas\", \"oranges\"] {allow-input: true}\n",
        "# @markdown ---"
      ],
      "metadata": {
        "id": "OmDQLccgJ36I"
      },
      "execution_count": null,
      "outputs": []
    },
    {
      "cell_type": "markdown",
      "source": [
        "# 지수 값 구하기"
      ],
      "metadata": {
        "id": "CW18BhaiHGvj"
      }
    },
    {
      "cell_type": "code",
      "source": [
        "x=800\n",
        "\n",
        "x6= x*x*x*x*x*x\n",
        "x6\n",
        "y=\n",
        "if x6 > 2000000:\n",
        "  print(\"너무 큰 수를 입력하셨습니다.\")\n"
      ],
      "metadata": {
        "colab": {
          "base_uri": "https://localhost:8080/"
        },
        "id": "mmFGNsbgJnie",
        "outputId": "b7253f69-bf94-444e-a427-5d7de89352bf"
      },
      "execution_count": null,
      "outputs": [
        {
          "output_type": "stream",
          "name": "stdout",
          "text": [
            "너무 큰 수를 입력하셨습니다.\n"
          ]
        }
      ]
    },
    {
      "cell_type": "markdown",
      "source": [],
      "metadata": {
        "id": "-XyOmskDIloM"
      }
    }
  ]
}