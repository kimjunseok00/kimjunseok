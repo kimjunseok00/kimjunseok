{
  "nbformat": 4,
  "nbformat_minor": 0,
  "metadata": {
    "colab": {
      "provenance": [],
      "authorship_tag": "ABX9TyMmSbxMN0fgGYBbiX4wxyyM",
      "include_colab_link": true
    },
    "kernelspec": {
      "name": "python3",
      "display_name": "Python 3"
    },
    "language_info": {
      "name": "python"
    }
  },
  "cells": [
    {
      "cell_type": "markdown",
      "metadata": {
        "id": "view-in-github",
        "colab_type": "text"
      },
      "source": [
        "<a href=\"https://colab.research.google.com/github/kimjunseok00/kimjunseok/blob/main/%EB%8D%B0%EC%9D%B4%ED%84%B0%EB%B6%84%EC%84%9D_.ipynb\" target=\"_parent\"><img src=\"https://colab.research.google.com/assets/colab-badge.svg\" alt=\"Open In Colab\"/></a>"
      ]
    },
    {
      "cell_type": "markdown",
      "source": [
        "## 새로운 데이터 예측\n"
      ],
      "metadata": {
        "id": "Mtl7W76EL3xf"
      }
    },
    {
      "cell_type": "markdown",
      "source": [],
      "metadata": {
        "id": "fpDruESFL3j8"
      }
    },
    {
      "cell_type": "code",
      "source": [
        "# prompt: 우주선이 출발하는데 얼마나 많은 에너지가 필요한지 분석해줘\n",
        "\n",
        "import pandas as pd\n",
        "from sklearn.model_selection import train_test_split\n",
        "from sklearn.linear_model import LinearRegression\n",
        "from sklearn.metrics import mean_squared_error\n",
        "\n",
        "# 데이터 로드 (가상 데이터 생성)\n",
        "data = {'mass': [1000, 2000, 3000, 4000, 5000],  # 우주선 질량 (kg)\n",
        "        'velocity': [1000, 2000, 3000, 4000, 5000],  # 우주선 속도 (m/s)\n",
        "        'energy': [100000, 400000, 900000, 1600000, 2500000]}  # 필요한 에너지 (J) - 가상의 데이터\n",
        "data = pd.DataFrame(data)\n",
        "\n",
        "# 특성(X)과 타겟(y) 분리\n",
        "X = data[['mass', 'velocity']]\n",
        "y = data['energy']\n",
        "\n",
        "# 데이터 전처리 (필요에 따라 추가)\n",
        "\n",
        "# 훈련 데이터와 테스트 데이터 분할\n",
        "X_train, X_test, y_train, y_test = train_test_split(X, y, test_size=0.2, random_state=42)\n",
        "\n",
        "# 모델 생성 및 훈련\n",
        "model = LinearRegression()\n",
        "model.fit(X_train, y_train)\n",
        "\n",
        "# 예측\n",
        "y_pred = model.predict(X_test)\n",
        "\n",
        "# 평가\n",
        "mse = mean_squared_error(y_test, y_pred)\n",
        "print(f\"Mean Squared Error: {mse}\")\n",
        "\n",
        "# 새로운 데이터로 예측 (예시)\n",
        "new_data = pd.DataFrame({'mass': [6000], 'velocity': [6000]})\n",
        "new_predictions = model.predict(new_data)\n",
        "print(f\"새로운 우주선 발사에 필요한 에너지 예측 (질량: 6000kg, 속도:6000m/s): {new_predictions[0]} 줄\")\n"
      ],
      "metadata": {
        "id": "qy52K8glMA7L"
      },
      "execution_count": null,
      "outputs": []
    },
    {
      "cell_type": "code",
      "source": [
        "# prompt: 사람들의 행동 경제학에 대한 데이터 분석해줘\n",
        "\n",
        "import pandas as pd\n",
        "# 추가적인 데이터 분석 라이브러리 import\n",
        "import numpy as np\n",
        "import matplotlib.pyplot as plt\n",
        "import seaborn as sns\n",
        "\n",
        "# 행동경제학 데이터 분석을 위해서는 적절한 데이터셋이 필요합니다.\n",
        "# 여기서는 가상의 데이터셋을 사용하는 예시를 보여줍니다.\n",
        "# 실제 분석에서는 실제 데이터를 사용해야 합니다.\n",
        "\n",
        "# 가상 데이터 생성\n",
        "data = {\n",
        "    'age': np.random.randint(20, 60, 100),\n",
        "    'income': np.random.randint(2000, 10000, 100),\n",
        "    'risk_aversion': np.random.rand(100),  # 0~1 사이의 값으로 위험 회피 성향 표현\n",
        "    'investment': np.random.randint(0, 50000, 100),\n",
        "}\n",
        "df = pd.DataFrame(data)\n",
        "\n",
        "\n",
        "# 데이터 탐색 및 시각화\n",
        "# 1. 기술 통계량\n",
        "print(df.describe())\n",
        "\n",
        "# 2. 산점도 행렬\n",
        "sns.pairplot(df)\n",
        "plt.show()\n",
        "\n",
        "# 3. 히스토그램\n",
        "plt.hist(df['risk_aversion'], bins=10)\n",
        "plt.xlabel('Risk Aversion')\n",
        "plt.ylabel('Frequency')\n",
        "plt.title('Distribution of Risk Aversion')\n",
        "plt.show()\n",
        "\n",
        "# 4. 상관관계 분석\n",
        "correlation_matrix = df.corr()\n",
        "print(correlation_matrix)\n",
        "sns.heatmap(correlation_matrix, annot=True)\n",
        "plt.show()\n",
        "\n",
        "# 5. 회귀 분석 (예시: 나이와 수입의 관계)\n",
        "from sklearn.linear_model import LinearRegression\n",
        "\n",
        "X = df[['age']]\n",
        "y = df['income']\n",
        "model = LinearRegression()\n",
        "model.fit(X, y)\n",
        "print(\"회귀 계수:\", model.coef_)\n",
        "print(\"절편:\", model.intercept_)\n",
        "y_pred = model.predict(X)\n",
        "plt.scatter(X, y, color='blue')\n",
        "plt.plot(X, y_pred, color='red')\n",
        "plt.xlabel('Age')\n",
        "plt.ylabel('Income')\n",
        "plt.title('Linear Regression: Age vs Income')\n",
        "plt.show()\n",
        "\n",
        "\n",
        "# 추가 분석 및 시각화 방법들\n",
        "# -  다른 변수 조합 간의 상관관계 분석\n",
        "# -  위험 회피 성향과 투자 금액의 관계 분석\n",
        "# -  연령대별 위험 회피 성향 차이 분석\n",
        "# -  수입과 위험 회피 성향의 관계 분석 등\n",
        "# -  군집 분석을 사용한 고객 세분화\n",
        "\n",
        "# 추가적인 데이터 전처리 및 모델링 기법 활용\n",
        "# -  데이터 스케일링\n",
        "# -  더 복잡한 회귀 모델 (다항 회귀, SVR)\n",
        "# -  의사결정나무, 랜덤 포레스트 등의 머신러닝 모델 사용\n",
        "\n",
        "# 중요: 위의 분석은 가상 데이터를 사용한 예시일 뿐입니다.\n",
        "# 실제 행동경제학 분석은 관련 데이터와 전문적인 지식을 기반으로 수행되어야 합니다.\n"
      ],
      "metadata": {
        "id": "rxeon7h-OyEf"
      },
      "execution_count": null,
      "outputs": []
    }
  ]
}